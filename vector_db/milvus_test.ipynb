{
  "cells": [
    {
      "cell_type": "code",
      "execution_count": null,
      "metadata": {
        "id": "8rq2Egs8KXpP"
      },
      "outputs": [],
      "source": [
        "! python3 -m pip install milvus pymilvus"
      ]
    },
    {
      "cell_type": "code",
      "execution_count": null,
      "metadata": {
        "id": "LcFWwHAfNzOE"
      },
      "outputs": [],
      "source": [
        "# ここでランタイムを再起動する\n",
        "# https://github.com/deepset-ai/haystack/issues/1462"
      ]
    },
    {
      "cell_type": "code",
      "execution_count": null,
      "metadata": {
        "id": "cqJoEUJ2wqtg"
      },
      "outputs": [],
      "source": [
        "from google.colab import drive\n",
        "import pandas as pd\n",
        "import random\n",
        "from milvus import default_server\n",
        "from pymilvus import connections, utility"
      ]
    },
    {
      "cell_type": "code",
      "execution_count": null,
      "metadata": {
        "id": "OMjaIw-3wtY_"
      },
      "outputs": [],
      "source": [
        "drive.mount('/content/drive')"
      ]
    },
    {
      "cell_type": "code",
      "execution_count": null,
      "metadata": {
        "id": "2oh7A1Awwt9q"
      },
      "outputs": [],
      "source": [
        "scores_all_df = pd.read_csv('drive/My Drive/dev/20230424_recommend_erogame/userbase_matrix.csv', encoding='utf-8')\n",
        "user_df = pd.read_csv('drive/My Drive/dev/20230424_recommend_erogame/userbase_user_map.csv', encoding='utf-8')\n",
        "game_df = pd.read_csv('drive/My Drive/dev/20230424_recommend_erogame/userbase_game_map.csv', encoding='utf-8')\n",
        "scores_df = pd.read_csv('drive/My Drive/dev/20230424_recommend_erogame/score_df_pickupuser_202310.csv' ,encoding='utf-8')\n",
        "user_df_index = scores_df[\"uid\"].unique().tolist()\n",
        "game_df_index = scores_df[\"game_id\"].unique().tolist()"
      ]
    },
    {
      "cell_type": "code",
      "source": [
        "matrix_df = scores_df.pivot(index='uid', columns='game_id', values='score').astype('Int16')\n",
        "# 0埋め\n",
        "matrix_df.fillna(0,inplace=True)"
      ],
      "metadata": {
        "id": "CIlQbzZ_95_S"
      },
      "execution_count": null,
      "outputs": []
    },
    {
      "cell_type": "code",
      "source": [
        "# matrix_df.iloc[0].values"
      ],
      "metadata": {
        "id": "JbOhv1ZZ-EUc"
      },
      "execution_count": null,
      "outputs": []
    },
    {
      "cell_type": "code",
      "execution_count": null,
      "metadata": {
        "id": "1a4GSrxO37A6"
      },
      "outputs": [],
      "source": [
        "'''\n",
        "if len(scores_all_df.query(\"uid == 0 & game_id == 1\")[\"score\"]) == 0:\n",
        "  print('empty')\n",
        "else:\n",
        "  print('not empty')\n",
        "  print(int(scores_all_df.query(\"uid == 0 & game_id == 1\")[\"score\"]))\n",
        "'''"
      ]
    },
    {
      "cell_type": "code",
      "execution_count": null,
      "metadata": {
        "id": "sa4MNR8BxXeU"
      },
      "outputs": [],
      "source": [
        "\n",
        "print(\"uid max : \"+str(scores_df[\"uid\"].max()))\n",
        "print(\"uid max : \"+str(len(scores_df[\"uid\"].unique().tolist())))\n",
        "print(\"game_id max : \"+str(scores_df[\"game_id\"].max()))\n",
        "print(\"game_id count : \"+str(len(scores_df[\"game_id\"].unique().tolist())))"
      ]
    },
    {
      "cell_type": "code",
      "execution_count": null,
      "metadata": {
        "id": "SHgHJ19vMdUo"
      },
      "outputs": [],
      "source": [
        "# (OPTIONAL) Set if you want store all related data to specific location\n",
        "# Default location:\n",
        "#   %APPDATA%/milvus-io/milvus-server on windows\n",
        "#   ~/.milvus-io/milvus-server on linux\n",
        "# default_server.set_base_dir('milvus_data')\n",
        "\n",
        "# (OPTIONAL) if you want cleanup previous data\n",
        "# default_server.cleanup()\n",
        "\n",
        "# Start your milvus server\n",
        "default_server.start()\n",
        "\n",
        "# Now you could connect with localhost and the given port\n",
        "# Port is defined by default_server.listen_port\n",
        "connections.connect(host='127.0.0.1', port=default_server.listen_port)\n",
        "\n",
        "# Check if the server is ready.\n",
        "print(utility.get_server_version())"
      ]
    },
    {
      "cell_type": "code",
      "execution_count": null,
      "metadata": {
        "id": "bhj34TfWbpsT"
      },
      "outputs": [],
      "source": [
        "# コレクションの作成\n",
        "# データベースは default 利用\n",
        "# https://github.com/milvus-io/pymilvus/blob/master/examples/example.py\n",
        "from pymilvus import (\n",
        "    FieldSchema, CollectionSchema, DataType,\n",
        "    Collection\n",
        ")\n",
        "def create_collection(name, id_field, vector_field, dim):\n",
        "    field1 = FieldSchema(name=id_field, dtype=DataType.INT64, description=\"int64\", is_primary=True)\n",
        "    field2 = FieldSchema(name=vector_field, dtype=DataType.FLOAT_VECTOR, description=\"float vector\", dim=dim,\n",
        "                         is_primary=False)\n",
        "    schema = CollectionSchema(fields=[field1, field2], description=\"collection description\")\n",
        "    collection = Collection(name=name, data=None, schema=schema, properties={\"collection.ttl.seconds\": 15})\n",
        "    print(\"\\ncollection created:\", name)\n",
        "    return collection\n",
        "\n",
        "def set_properties(collection):\n",
        "    collection.set_properties(properties={\"collection.ttl.seconds\": 1800})\n",
        "\n",
        "def create_index(collection, filed_name):\n",
        "    index_params = {\n",
        "      \"metric_type\":\"IP\",\n",
        "      \"index_type\":\"IVF_FLAT\",\n",
        "      \"params\":{\"nlist\":1024}\n",
        "    }\n",
        "    collection.create_index(filed_name, index_params)\n",
        "    print(\"\\nCreated index:\\n{}\".format(collection.index().params))\n",
        "\n",
        "def insert(collection):\n",
        "    scores = []\n",
        "    for index, row in matrix_df.iterrows():\n",
        "      scores.append(row.values)\n",
        "    collection.insert([\n",
        "        user_df_index,\n",
        "        scores\n",
        "    ])\n",
        "    return scores\n",
        "\n",
        "def search(collection, vector_field, id_field, search_vectors):\n",
        "    search_param = {\n",
        "        \"data\": search_vectors,\n",
        "        \"anns_field\": vector_field,\n",
        "        \"param\": {\"metric_type\": \"IP\", \"params\": {\"nprobe\": 16}},\n",
        "        \"limit\": 10,\n",
        "        \"expr\": id_field+\" >= 0\"}\n",
        "    results = collection.search(**search_param)\n",
        "    for i, result in enumerate(results):\n",
        "        print(\"\\nSearch result for {}th vector: \".format(i))\n",
        "        for j, res in enumerate(result):\n",
        "            print(\"Top {}: {}\".format(j, res))\n",
        "            print(\"https://erogamescape.dyndns.org/~ap2/ero/toukei_kaiseki/user_infomation.php?user=\" + user_df.iloc[res.id].uid)"
      ]
    },
    {
      "cell_type": "code",
      "execution_count": null,
      "metadata": {
        "id": "n4xYkpsIYgXk"
      },
      "outputs": [],
      "source": [
        "# create collection\n",
        "collection = create_collection(\"eroge_score\", \"uid\", \"game_id\", len(game_df_index))\n",
        "\n",
        "# alter ttl properties of collection level\n",
        "set_properties(collection)\n",
        "\n",
        "vectors = insert(collection)\n",
        "collection.flush()\n",
        "\n",
        "create_index(collection, \"game_id\")\n",
        "\n",
        "collection.load()"
      ]
    },
    {
      "cell_type": "code",
      "source": [
        "# search\n",
        "print(\"target:\" + str(user_df_index[1900:1903]))\n",
        "search(collection, \"game_id\", \"uid\", vectors[1900:1903])"
      ],
      "metadata": {
        "id": "rOYr9_WxITfI",
        "collapsed": true
      },
      "execution_count": null,
      "outputs": []
    },
    {
      "cell_type": "code",
      "source": [
        "# (OPTIONAL) if you want cleanup previous data\n",
        "default_server.cleanup()"
      ],
      "metadata": {
        "id": "lLiwkP2OIx_G"
      },
      "execution_count": null,
      "outputs": []
    },
    {
      "cell_type": "code",
      "source": [
        "# ユーザーごとの比較\n",
        "target1 = 4869\n",
        "target2 = 288\n",
        "index1 = user_df_index.index(target1)\n",
        "index2 = user_df_index.index(target2)\n",
        "df_t1 = scores_all_df.query(\"uid == \"+str(index1))\n",
        "df_t2 = scores_all_df.query(\"uid == \"+str(index2))\n",
        "check_df = df_t1.merge(df_t2, on=\"game_id\", how='inner', suffixes=('_t1', '_t2'))\n",
        "print(check_df)\n",
        "for i, row in check_df.iterrows():\n",
        "  print(game_df.iloc[row[\"game_id\"]])"
      ],
      "metadata": {
        "id": "Tj8yTzyJR33r"
      },
      "execution_count": null,
      "outputs": []
    },
    {
      "cell_type": "code",
      "execution_count": null,
      "metadata": {
        "id": "JUczP-ylXMut"
      },
      "outputs": [],
      "source": [
        "# Stop your milvus server\n",
        "default_server.stop()\n",
        "connections.remove_connection(\"default\")"
      ]
    }
  ],
  "metadata": {
    "colab": {
      "provenance": []
    },
    "kernelspec": {
      "display_name": "Python 3",
      "name": "python3"
    },
    "language_info": {
      "name": "python"
    }
  },
  "nbformat": 4,
  "nbformat_minor": 0
}