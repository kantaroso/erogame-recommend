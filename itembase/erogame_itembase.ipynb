{
  "cells": [
    {
      "cell_type": "markdown",
      "metadata": {
        "id": "KaL6U5IR4PlE"
      },
      "source": [
        "\n",
        "## 概要\n",
        "登録POV（Point of View）を使ってアイテムベースのレコメンドを行う\n",
        "\n",
        "## データソース\n",
        "https://erogamescape.dyndns.org/~ap2/ero/toukei_kaiseki/"
      ]
    },
    {
      "cell_type": "markdown",
      "metadata": {
        "id": "ShvAaXEOQ0qG"
      },
      "source": [
        "**準備処理**"
      ]
    },
    {
      "cell_type": "code",
      "execution_count": 1,
      "metadata": {
        "id": "I88jGOxF4Os8"
      },
      "outputs": [],
      "source": [
        "import numpy as np\n",
        "import pandas as pd\n",
        "from sklearn.metrics.pairwise import cosine_similarity\n",
        "from google.colab import drive"
      ]
    },
    {
      "cell_type": "code",
      "execution_count": 2,
      "metadata": {
        "colab": {
          "base_uri": "https://localhost:8080/"
        },
        "id": "WVMHRtAaVGdp",
        "outputId": "4196bc69-6f9e-4c73-e8f8-dc72d7c493f2"
      },
      "outputs": [
        {
          "name": "stdout",
          "output_type": "stream",
          "text": [
            "Mounted at /content/drive\n"
          ]
        }
      ],
      "source": [
        "drive.mount('/content/drive')"
      ]
    },
    {
      "cell_type": "code",
      "execution_count": 3,
      "metadata": {
        "id": "ISkL0HIkRcyn"
      },
      "outputs": [],
      "source": [
        "data= pd.read_csv('drive/My Drive/dev/20230424_recommend_erogame/itembase.csv')"
      ]
    },
    {
      "cell_type": "code",
      "execution_count": 4,
      "metadata": {
        "id": "kqIUr19uWXN1"
      },
      "outputs": [],
      "source": [
        "# game_id でインデックスを生成\n",
        "data.set_index('game', inplace=True)\n",
        "# 中身確認\n",
        "# print(data.head())"
      ]
    },
    {
      "cell_type": "code",
      "execution_count": 39,
      "metadata": {
        "id": "NA4H3PAiW101"
      },
      "outputs": [],
      "source": [
        "# game_idを指定してレコメンドする関数を作成\n",
        "def get_reccomend(game_id, data):\n",
        "  score_list = {}\n",
        "  for index, row in data.iterrows():\n",
        "    if game_id == index:\n",
        "      continue\n",
        "    a = data.loc[game_id]\n",
        "    b = row\n",
        "    item_similarity = cosine_similarity(np.array([a,b]))\n",
        "    if (item_similarity[0,1] > 0.5) :\n",
        "      score_list[index] = item_similarity[0,1]\n",
        "  sorted_score_list = sorted(score_list.items(), key=lambda x:x[1], reverse=True)\n",
        "  print(sorted_score_list[:10])\n",
        "    \n",
        "    "
      ]
    },
    {
      "cell_type": "code",
      "execution_count": 40,
      "metadata": {
        "colab": {
          "base_uri": "https://localhost:8080/"
        },
        "id": "gUunRHAsc1Vi",
        "outputId": "99751f18-5510-4dc3-d863-b539e8447941"
      },
      "outputs": [
        {
          "name": "stdout",
          "output_type": "stream",
          "text": [
            "[(18025, 0.820113052175206), (10917, 0.8188808017570546), (14237, 0.8078337322636685), (21180, 0.807397350998229), (15986, 0.806274230266075), (17811, 0.805971426204332), (10205, 0.8012573580802624), (6234, 0.7999666234040556), (5148, 0.7957049300092134), (7835, 0.7923478936573503)]\n"
          ]
        }
      ],
      "source": [
        "get_reccomend(19640,data)"
      ]
    }
  ],
  "metadata": {
    "colab": {
      "provenance": []
    },
    "kernelspec": {
      "display_name": "Python 3",
      "name": "python3"
    },
    "language_info": {
      "name": "python"
    }
  },
  "nbformat": 4,
  "nbformat_minor": 0
}
