{
  "nbformat": 4,
  "nbformat_minor": 0,
  "metadata": {
    "colab": {
      "provenance": []
    },
    "kernelspec": {
      "name": "python3",
      "display_name": "Python 3"
    },
    "language_info": {
      "name": "python"
    }
  },
  "cells": [
    {
      "cell_type": "markdown",
      "source": [
        "データの調整するためのシート。\n",
        "\n",
        "評価データについてユーザーとゲームそれぞれについて分布を確認する。\n",
        "\n",
        "https://seaborn.pydata.org/generated/seaborn.histplot.html"
      ],
      "metadata": {
        "id": "aVoPloqYUpEb"
      }
    },
    {
      "cell_type": "code",
      "execution_count": null,
      "metadata": {
        "id": "UkNuNiNn1mVN"
      },
      "outputs": [],
      "source": [
        "import seaborn as sns\n",
        "import numpy as np\n",
        "import pandas as pd\n",
        "import matplotlib.pyplot as plt\n",
        "from google.colab import drive"
      ]
    },
    {
      "cell_type": "code",
      "source": [
        "drive.mount('/content/drive')"
      ],
      "metadata": {
        "id": "0wW8Opkv6t0C"
      },
      "execution_count": null,
      "outputs": []
    },
    {
      "cell_type": "code",
      "source": [
        "scores_df = pd.read_csv('drive/My Drive/dev/20230424_recommend_erogame/userbase_matrix.csv', encoding='utf-8')\n",
        "user_df = pd.read_csv('drive/My Drive/dev/20230424_recommend_erogame/userbase_user_map.csv', encoding='utf-8')\n",
        "game_df = pd.read_csv('drive/My Drive/dev/20230424_recommend_erogame/userbase_game_map.csv', encoding='utf-8')"
      ],
      "metadata": {
        "id": "0e3p6d3J8hNe"
      },
      "execution_count": null,
      "outputs": []
    },
    {
      "cell_type": "code",
      "source": [
        "# ユーザーとゲームの出現数をそれぞれ取得\n",
        "user_count_df = scores_df['uid'].value_counts()\n",
        "game_count_df = scores_df['game_id'].value_counts()"
      ],
      "metadata": {
        "id": "55Ec-ar5X4dA"
      },
      "execution_count": null,
      "outputs": []
    },
    {
      "cell_type": "code",
      "source": [
        "# 内容を確認\n",
        "user_count_df.info()\n",
        "# user_count_df.head(100)\n",
        "# user_count_df.tail(100)\n",
        "# user_count_df.value_counts().tail(100)\n",
        "# sns.histplot(data=user_count_df)\n",
        "# sns.histplot(data=user_count_df,bins=1000)"
      ],
      "metadata": {
        "id": "yymyxIANPge-"
      },
      "execution_count": null,
      "outputs": []
    },
    {
      "cell_type": "code",
      "source": [
        "# 内容を確認\n",
        "game_count_df.info()\n",
        "# game_count_df.head(100)\n",
        "# game_count_df.tail(100)\n",
        "# game_count_df.value_counts().tail(100)\n",
        "# sns.histplot(data=game_count_df)\n",
        "# sns.histplot(data=game_count_df,bins=100)"
      ],
      "metadata": {
        "id": "V_ZIfwrSUKV9"
      },
      "execution_count": null,
      "outputs": []
    },
    {
      "cell_type": "code",
      "source": [
        "# データ確認\n",
        "# game_df.loc[11046]\n",
        "# user_df.loc[9261]"
      ],
      "metadata": {
        "id": "vhnUy7YK8zfh"
      },
      "execution_count": null,
      "outputs": []
    },
    {
      "cell_type": "markdown",
      "source": [],
      "metadata": {
        "id": "qgbZNk6ZU5Ja"
      }
    }
  ]
}