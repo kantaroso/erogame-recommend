{
  "nbformat": 4,
  "nbformat_minor": 0,
  "metadata": {
    "colab": {
      "provenance": []
    },
    "kernelspec": {
      "name": "python3",
      "display_name": "Python 3"
    },
    "language_info": {
      "name": "python"
    }
  },
  "cells": [
    {
      "cell_type": "markdown",
      "source": [
        "## メモ\n",
        "\n",
        "回帰分析の評価指標\n",
        "\n",
        "* https://stats.biopapyrus.jp/glm/lm-evaluation.html\n",
        "\n",
        "ユークリッド距離 vs コサイン類似度\n",
        "\n",
        "* https://enjoyworks.jp/tech-blog/2242\n",
        "\n",
        "ライブラリ使った方が楽そう\n",
        "\n",
        "* https://github.com/NicolasHug/Surprise\n",
        "\n",
        "レコメンドサンプル\n",
        "\n",
        " * https://github.com/NicolasHug/Surprise/blob/master/examples/top_n_recommendations.py\n",
        "\n",
        "Python surprise で作る らくらく「レコメンドエンジン」（その１）\n",
        "\n",
        "* https://www.salesanalytics.co.jp/datascience/datascience180/\n",
        "\n",
        "MF系アルゴリズムのまとめ\n",
        "\n",
        "* https://qiita.com/kondo-k/items/7a67881520da23229ce5"
      ],
      "metadata": {
        "id": "SddIGooQuC6a"
      }
    },
    {
      "cell_type": "code",
      "source": [
        "! pip install surprise"
      ],
      "metadata": {
        "id": "23ICAK8dAmq3"
      },
      "execution_count": null,
      "outputs": []
    },
    {
      "cell_type": "code",
      "source": [
        "from surprise import NMF, SVD, SVDpp, KNNBasic, SlopeOne, Dataset, accuracy, Reader\n",
        "from surprise.model_selection import train_test_split, cross_validate, GridSearchCV\n",
        "from google.colab import drive\n",
        "from collections import defaultdict\n",
        "import numpy as np\n",
        "import pandas as pd\n",
        "import random"
      ],
      "metadata": {
        "id": "qvM-ruMJAppM"
      },
      "execution_count": null,
      "outputs": []
    },
    {
      "cell_type": "code",
      "source": [
        "drive.mount('/content/drive')"
      ],
      "metadata": {
        "id": "fbyVcfq6ApnI"
      },
      "execution_count": null,
      "outputs": []
    },
    {
      "cell_type": "code",
      "source": [
        "scores_tmp_df = pd.read_csv('drive/My Drive/dev/20230424_recommend_erogame/userbase_matrix.csv', encoding='utf-8')\n",
        "user_df = pd.read_csv('drive/My Drive/dev/20230424_recommend_erogame/userbase_user_map.csv', encoding='utf-8')\n",
        "game_df = pd.read_csv('drive/My Drive/dev/20230424_recommend_erogame/userbase_game_map.csv', encoding='utf-8')\n",
        "# scores_df = pd.read_csv('drive/My Drive/dev/20230424_recommend_erogame/score_df_pickupuser_202310.csv' ,encoding='utf-8')\n",
        "# scores_df = pd.read_csv('drive/My Drive/dev/20230424_recommend_erogame/score_df_pickupuser_202310v2.csv' ,encoding='utf-8')\n",
        "scores_df = scores_tmp_df"
      ],
      "metadata": {
        "id": "L-SA_8hCAvC2"
      },
      "execution_count": null,
      "outputs": []
    },
    {
      "cell_type": "code",
      "source": [
        "print(\"ユーザー数：\" + str(len(user_df)))\n",
        "print(\"ゲーム数：\" + str(len(game_df)))\n",
        "print(\"ユーザー数（抽出済み対象）：\" + str(len(scores_df['uid'].unique())))"
      ],
      "metadata": {
        "id": "y02mQR54sCqW"
      },
      "execution_count": null,
      "outputs": []
    },
    {
      "cell_type": "code",
      "source": [
        "scores_tmp_df.groupby('game_id')['score'].agg(['mean','count']).sort_values('count', ascending=False)"
      ],
      "metadata": {
        "id": "N43YahlYFJMQ"
      },
      "execution_count": null,
      "outputs": []
    },
    {
      "cell_type": "code",
      "source": [
        "## 評価数を全ユーザー合わせる\n",
        "def random_pickupitem(df, max_item):\n",
        "  dic = {}\n",
        "  result_df = df.copy()\n",
        "  for index, tmp in df.iterrows():\n",
        "    if tmp.uid not in dic:\n",
        "      dic[tmp.uid] = []\n",
        "    dic[tmp.uid].append(index)\n",
        "  for key in dic:\n",
        "    delete_num = len(dic[key]) - max_item\n",
        "    if delete_num == 0:\n",
        "      continue\n",
        "    delete_keys = random.sample(dic[key], delete_num)\n",
        "    result_df.drop(index = delete_keys,inplace=True)\n",
        "  return result_df\n",
        "scores_df_pickupitem = random_pickupitem(scores_tmp_df,20)\n",
        "# 時間かかるのでファイル化\n",
        "# scores_df_pickupitem.to_csv('drive/My Drive/dev/20230424_recommend_erogame/score_df_pickupitem_202310.csv', index=False)\n",
        "scores_df_pickupitem.to_csv('drive/My Drive/dev/20230424_recommend_erogame/score_df_pickupitem_202310v2.csv', index=False)"
      ],
      "metadata": {
        "id": "C5staJIlI_dS"
      },
      "execution_count": null,
      "outputs": []
    },
    {
      "cell_type": "code",
      "source": [
        "## ユーザーを抽出\n",
        "def random_pickupuser(df, max_user):\n",
        "  del_list = []\n",
        "  result_df = df.copy()\n",
        "  delete_num = len(df['uid'].unique()) - max_user\n",
        "  del_list = random.sample(df['uid'].unique().tolist(), delete_num)\n",
        "  for key in del_list:\n",
        "    delete_keys = df[df['uid']==key].index\n",
        "    result_df.drop(index = delete_keys,inplace=True)\n",
        "  return result_df\n",
        "scores_df = random_pickupuser(scores_df_pickupitem,2000)\n",
        "# 時間かかるのでファイル化\n",
        "# scores_df.to_csv('drive/My Drive/dev/20230424_recommend_erogame/score_df_pickupuser_202310.csv', index=False)\n",
        "scores_df.to_csv('drive/My Drive/dev/20230424_recommend_erogame/score_df_pickupuser_202310v2.csv', index=False)"
      ],
      "metadata": {
        "id": "j0KvFI2SaOX5"
      },
      "execution_count": null,
      "outputs": []
    },
    {
      "cell_type": "code",
      "source": [
        "scores_df.groupby('game_id')['score'].agg(['mean','count']).sort_values('count', ascending=False)"
      ],
      "metadata": {
        "id": "3-UVNSLy9WJa"
      },
      "execution_count": null,
      "outputs": []
    },
    {
      "cell_type": "code",
      "source": [
        "print(scores_df[scores_df['uid']==8].index)\n",
        "# len(scores_df['uid'].unique())\n",
        "# len(scores_df['game_id'].unique())\n",
        "# random.sample(scores_df['uid'].unique().tolist(),1)"
      ],
      "metadata": {
        "id": "ZUBRhqhDSVqu"
      },
      "execution_count": null,
      "outputs": []
    },
    {
      "cell_type": "code",
      "source": [
        "def get_top_n(predictions, n=10):\n",
        "    \"\"\"Return the top-N recommendation for each user from a set of predictions.\n",
        "\n",
        "    Args:\n",
        "        predictions(list of Prediction objects): The list of predictions, as\n",
        "            returned by the test method of an algorithm.\n",
        "        n(int): The number of recommendation to output for each user. Default\n",
        "            is 10.\n",
        "\n",
        "    Returns:\n",
        "    A dict where keys are user (raw) ids and values are lists of tuples:\n",
        "        [(raw item id, rating estimation), ...] of size n.\n",
        "    \"\"\"\n",
        "\n",
        "    # First map the predictions to each user.\n",
        "    top_n = defaultdict(list)\n",
        "    count = 0\n",
        "    for uid, iid, true_r, est, _ in predictions:\n",
        "        top_n[uid].append((iid, est))\n",
        "\n",
        "    # Then sort the predictions for each user and retrieve the k highest ones.\n",
        "    for uid, user_ratings in top_n.items():\n",
        "        user_ratings.sort(key=lambda x: x[1], reverse=True)\n",
        "        top_n[uid] = user_ratings[:n]\n",
        "\n",
        "    return top_n"
      ],
      "metadata": {
        "id": "k9tkLN-SPrVk"
      },
      "execution_count": null,
      "outputs": []
    },
    {
      "cell_type": "code",
      "source": [
        "def get_info(list, target_user_index):\n",
        "  print(\"user_id : \" + user_df.iloc[target_user_index].uid + \" - https://erogamescape.dyndns.org/~ap2/ero/toukei_kaiseki/user_infomation.php?user=\" + user_df.iloc[target_user_index].uid)\n",
        "  for tmp in list[target_user_index]:\n",
        "    if tmp[0] in scores_tmp_df[scores_tmp_df['uid']==target_user_index].game_id.values:\n",
        "      continue\n",
        "    print(str(game_df.iloc[tmp[0]].game_id) + \",\" + str(tmp[1]))\n",
        "    # print(\"game_id : \" + str(tmp[0]) + \"-\" + str(game_df.iloc[tmp[0]].game_id) + \" - \" + str(tmp[1]) + \" - https://erogamescape.dyndns.org/~ap2/ero/toukei_kaiseki/game.php?game=\" + str(game_df.iloc[tmp[0]].game_id))"
      ],
      "metadata": {
        "id": "_SS3df3Ad_Be"
      },
      "execution_count": null,
      "outputs": []
    },
    {
      "cell_type": "code",
      "source": [
        "# reader = Reader(rating_scale=(1,5))\n",
        "reader = Reader(rating_scale=(1,10))\n",
        "data = Dataset.load_from_df(scores_df[[\"uid\", \"game_id\", \"score\"]],reader)"
      ],
      "metadata": {
        "id": "rWP1l30IBB0I"
      },
      "execution_count": null,
      "outputs": []
    },
    {
      "cell_type": "code",
      "source": [
        "# パラメータの調整\n",
        "# SVD\n",
        "# param_grid = {\"n_factors\":[20], \"n_epochs\": [20, 25, 30], \"lr_all\": [0.002, 0.005 ,0.01, 0.03]}\n",
        "# gs = GridSearchCV(SVD, param_grid, measures=[\"rmse\", \"mae\"], cv=3)\n",
        "#0.6648357155315309\n",
        "#{'n_factors': 20, 'n_epochs': 25, 'lr_all': 0.005}\n",
        "#1.3307434581038435\n",
        "#{'n_factors': 20, 'n_epochs': 30, 'lr_all': 0.005}\n",
        "\n",
        "# SVDpp\n",
        "#param_grid = {\"n_factors\":[20, 50, 100], \"n_epochs\": [20, 25, 30], \"lr_all\": [0.002, 0.005 ,0.01, 0.1]}\n",
        "#gs = GridSearchCV(SVDpp, param_grid, measures=[\"rmse\", \"mae\"], cv=3)\n",
        "#0.6627003262915983\n",
        "#{'n_factors': 20, 'n_epochs': 25, 'lr_all': 0.005}\n",
        "\n",
        "# NMF\n",
        "param_grid = {\"n_factors\":[20, 25, 30], \"n_epochs\": [50, 100], \"biased\": [True, False]}\n",
        "gs = GridSearchCV(NMF, param_grid, measures=[\"rmse\", \"mae\"], cv=3)\n",
        "#0.6659059049908401\n",
        "#{'n_factors': 20, 'n_epochs': 50, 'biased': True}\n",
        "#1.3366060504042678\n",
        "#{'n_factors': 25, 'n_epochs': 50, 'biased': True}\n",
        "\n",
        "# KNNBasic\n",
        "#param_grid = {\"k\":[20, 40, 60, 100], \"min_k\":[1, 5, 10], \"sim_options\": {'name':['pearson_baseline','cosine','msd','pearson']}}\n",
        "#gs = GridSearchCV(KNNBasic, param_grid, measures=[\"rmse\", \"mae\"], cv=3)\n",
        "# 0.7456638991491215\n",
        "# {'k': 40, 'min_k': 5, 'sim_options': {'name': 'msd', 'user_based': True}}\n",
        "\n",
        "# SlopeOne\n",
        "#param_grid = {}\n",
        "#gs = GridSearchCV(SlopeOne, param_grid , measures=[\"rmse\", \"mae\"], cv=3)\n",
        "#0.7897393384714445\n",
        "#{}\n",
        "\n",
        "gs.fit(data)\n",
        "\n",
        "# best RMSE score\n",
        "print(gs.best_score[\"rmse\"])\n",
        "\n",
        "# combination of parameters that gave the best RMSE score\n",
        "print(gs.best_params[\"rmse\"])"
      ],
      "metadata": {
        "id": "h0X0_NTmUCtL"
      },
      "execution_count": null,
      "outputs": []
    },
    {
      "cell_type": "code",
      "source": [
        "# algo=SVDpp(n_factors=20,n_epochs=25,lr_all=0.005)\n",
        "# algo=NMF(n_factors=20,n_epochs=50,biased=True)\n",
        "algo=NMF(n_factors=25,n_epochs=50,biased=True)\n",
        "# algo=SVD(n_factors=20,n_epochs=20,lr_all=0.01)\n",
        "# algo=SVD(n_factors=20,n_epochs=30,lr_all=0.005)\n",
        "# algo = KNNBasic(k=40, min_k=5, sim_options={'name':'pearson_baseline'})"
      ],
      "metadata": {
        "id": "GNhPgLyYFyQM"
      },
      "execution_count": null,
      "outputs": []
    },
    {
      "cell_type": "code",
      "source": [
        "cross_validate(algo, data, measures=['RMSE','MAE'], cv=5, verbose=True)"
      ],
      "metadata": {
        "id": "JavJTIXyBnqk"
      },
      "execution_count": null,
      "outputs": []
    },
    {
      "cell_type": "code",
      "source": [
        "trainset = data.build_full_trainset()\n",
        "testset = trainset.build_anti_testset()\n",
        "algo.fit(trainset)\n",
        "predictions = algo.test(testset)"
      ],
      "metadata": {
        "id": "tK91oAI6boK8"
      },
      "execution_count": null,
      "outputs": []
    },
    {
      "cell_type": "code",
      "source": [
        "predictions"
      ],
      "metadata": {
        "id": "eer63NWkQ9YH"
      },
      "execution_count": null,
      "outputs": []
    },
    {
      "cell_type": "code",
      "source": [
        "top_10 = get_top_n(predictions, 100)"
      ],
      "metadata": {
        "id": "t0cohgAlbjR5"
      },
      "execution_count": null,
      "outputs": []
    },
    {
      "cell_type": "code",
      "source": [
        "scores_tmp_df[scores_tmp_df['uid']==2].game_id.values"
      ],
      "metadata": {
        "id": "-09lPkejluXX"
      },
      "execution_count": null,
      "outputs": []
    },
    {
      "cell_type": "code",
      "source": [
        "get_info(top_10, 2)"
      ],
      "metadata": {
        "id": "cq4rr35gdxvW"
      },
      "execution_count": null,
      "outputs": []
    },
    {
      "cell_type": "code",
      "source": [
        "scores_df.groupby('game_id')['score'].agg(['mean','count']).sort_values('count', ascending=False)"
      ],
      "metadata": {
        "id": "MK-Espjedllc"
      },
      "execution_count": null,
      "outputs": []
    }
  ]
}