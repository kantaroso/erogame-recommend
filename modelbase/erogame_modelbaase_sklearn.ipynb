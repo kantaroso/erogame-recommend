{
  "nbformat": 4,
  "nbformat_minor": 0,
  "metadata": {
    "colab": {
      "provenance": []
    },
    "kernelspec": {
      "name": "python3",
      "display_name": "Python 3"
    },
    "language_info": {
      "name": "python"
    }
  },
  "cells": [
    {
      "cell_type": "markdown",
      "source": [
        "## メモ\n",
        "\n",
        "* https://scikit-learn.org/stable/modules/generated/sklearn.decomposition.NMF.html\n",
        "\n",
        "* https://takazawa.github.io/hobby/nmf_sklearn/\n",
        "\n",
        "* https://qiita.com/kusano_t/items/4c0429778613bb4a336d\n",
        "\n",
        "* https://a03ki.dev/post/nmf_for_missing_data/"
      ],
      "metadata": {
        "id": "2LYCt9UVihpq"
      }
    },
    {
      "cell_type": "code",
      "source": [
        "from sklearn.decomposition import NMF\n",
        "import numpy as np"
      ],
      "metadata": {
        "id": "MxuhdEni59Na"
      },
      "execution_count": null,
      "outputs": []
    },
    {
      "cell_type": "code",
      "source": [
        "# 0の部分は未知\n",
        "R = np.array([\n",
        "        [5, 3, 0, 1],\n",
        "        [4, 0, 0, 1],\n",
        "        [1, 1, 0, 5],\n",
        "        [1, 0, 0, 4],\n",
        "        [0, 1, 5, 4],\n",
        "        ]\n",
        "    )"
      ],
      "metadata": {
        "id": "Xb6jhpxG65N1"
      },
      "execution_count": null,
      "outputs": []
    },
    {
      "cell_type": "code",
      "source": [
        "for k in range(1,5):\n",
        "    model = NMF(n_components=k, init='random', max_iter=500, random_state=0, alpha_W=0.0)\n",
        "    P = model.fit_transform(R)\n",
        "    Q = model.components_\n",
        "    print(k)\n",
        "    print(model.reconstruction_err_ )"
      ],
      "metadata": {
        "id": "jRdIPA9k5-p-"
      },
      "execution_count": null,
      "outputs": []
    },
    {
      "cell_type": "code",
      "source": [
        "print(np.dot(P,Q))"
      ],
      "metadata": {
        "collapsed": true,
        "id": "cZuWdWNy6ECi"
      },
      "execution_count": null,
      "outputs": []
    },
    {
      "cell_type": "markdown",
      "source": [
        "--------"
      ],
      "metadata": {
        "id": "PrAN2sy_5_Go"
      }
    },
    {
      "cell_type": "code",
      "execution_count": null,
      "metadata": {
        "id": "7RIqtK16NsHM"
      },
      "outputs": [],
      "source": [
        "import numpy as np\n",
        "import pandas as pd\n",
        "from google.colab import drive\n",
        "from sklearn.decomposition import NMF"
      ]
    },
    {
      "cell_type": "code",
      "source": [
        "drive.mount('/content/drive')"
      ],
      "metadata": {
        "id": "UwXO8GeLg9EA"
      },
      "execution_count": null,
      "outputs": []
    },
    {
      "cell_type": "code",
      "source": [
        "scores_df = pd.read_csv('drive/My Drive/dev/20230424_recommend_erogame/userbase_matrix.csv', encoding='utf-8')\n",
        "user_df = pd.read_csv('drive/My Drive/dev/20230424_recommend_erogame/userbase_user_map.csv', encoding='utf-8')\n",
        "game_df = pd.read_csv('drive/My Drive/dev/20230424_recommend_erogame/userbase_game_map.csv', encoding='utf-8')\n",
        "# matrixを生成（メモリ節約のため型を調整）\n",
        "df = scores_df.pivot(index='uid', columns='game_id', values='score').astype('Int16')\n",
        "# 0埋め\n",
        "df.fillna(0,inplace=True)"
      ],
      "metadata": {
        "id": "shNHMOCQh2Z3"
      },
      "execution_count": null,
      "outputs": []
    },
    {
      "cell_type": "code",
      "source": [
        "df.head()"
      ],
      "metadata": {
        "id": "ArAs4xWsh6Xs"
      },
      "execution_count": null,
      "outputs": []
    },
    {
      "cell_type": "code",
      "source": [
        "model = NMF(n_components=500, init='random', max_iter=1000, random_state=0)"
      ],
      "metadata": {
        "id": "Nv0o7GlVg4Sz"
      },
      "execution_count": null,
      "outputs": []
    },
    {
      "cell_type": "code",
      "source": [
        "model.fit(df)\n",
        "print(model.reconstruction_err_)"
      ],
      "metadata": {
        "id": "Pij8H_kMjP2P"
      },
      "execution_count": null,
      "outputs": []
    },
    {
      "cell_type": "code",
      "source": [
        "W=model.transform(df)\n",
        "H=model.components_"
      ],
      "metadata": {
        "id": "cbNmmCn_-YTN"
      },
      "execution_count": null,
      "outputs": []
    },
    {
      "cell_type": "code",
      "source": [
        "res = pd.DataFrame(np.dot(W, H))"
      ],
      "metadata": {
        "id": "pv8uPKaFA0Ur"
      },
      "execution_count": null,
      "outputs": []
    },
    {
      "cell_type": "code",
      "source": [
        "res.head()"
      ],
      "metadata": {
        "id": "Qnq_UXuW__QS"
      },
      "execution_count": null,
      "outputs": []
    },
    {
      "cell_type": "code",
      "source": [
        "df.loc[1].sort_values(ascending=False).head(30)"
      ],
      "metadata": {
        "id": "Y91ZjgcGHfbu"
      },
      "execution_count": null,
      "outputs": []
    },
    {
      "cell_type": "code",
      "source": [
        "res.loc[1].sort_values(ascending=False).head(30)"
      ],
      "metadata": {
        "id": "5Ls3sLARFiVi"
      },
      "execution_count": null,
      "outputs": []
    }
  ]
}