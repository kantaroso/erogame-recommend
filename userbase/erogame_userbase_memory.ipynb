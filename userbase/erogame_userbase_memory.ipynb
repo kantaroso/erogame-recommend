{
  "nbformat": 4,
  "nbformat_minor": 0,
  "metadata": {
    "colab": {
      "provenance": []
    },
    "kernelspec": {
      "name": "python3",
      "display_name": "Python 3"
    },
    "language_info": {
      "name": "python"
    }
  },
  "cells": [
    {
      "cell_type": "markdown",
      "source": [
        "\n",
        "\n",
        "概要\n",
        "ユーザーレビューの得点を使って強調フィルタリング（メモリベース）を行う\n",
        "\n",
        "データソース\n",
        "https://erogamescape.dyndns.org/~ap2/ero/toukei_kaiseki/\n",
        "\n"
      ],
      "metadata": {
        "id": "bLH7aOzS2wiU"
      }
    },
    {
      "cell_type": "markdown",
      "source": [
        "事前準備"
      ],
      "metadata": {
        "id": "HFpJpEp3S_Cl"
      }
    },
    {
      "cell_type": "code",
      "source": [
        "import numpy as np\n",
        "import pandas as pd\n",
        "from google.colab import drive\n",
        "from sklearn.metrics.pairwise import cosine_similarity"
      ],
      "metadata": {
        "id": "aAvTe4CZS-F2"
      },
      "execution_count": null,
      "outputs": []
    },
    {
      "cell_type": "code",
      "source": [
        "drive.mount('/content/drive')"
      ],
      "metadata": {
        "id": "sMX1TkOOTDoA"
      },
      "execution_count": null,
      "outputs": []
    },
    {
      "cell_type": "code",
      "execution_count": null,
      "metadata": {
        "id": "7SVGcLSc2gIH"
      },
      "outputs": [],
      "source": [
        "df = pd.read_csv('drive/My Drive/dev/20230424_recommend_erogame/userbase.csv', encoding='utf-8')\n",
        "# matrixを生成（メモリ節約のため型を調整）\n",
        "df = df.pivot(index='uid', columns='game_id', values='score').astype('Int16')\n",
        "# 0埋め\n",
        "df.fillna(0,inplace=True)"
      ]
    },
    {
      "cell_type": "code",
      "source": [
        "df.head()"
      ],
      "metadata": {
        "id": "vrx0MZyxTx68"
      },
      "execution_count": null,
      "outputs": []
    },
    {
      "cell_type": "code",
      "source": [
        "df.info()"
      ],
      "metadata": {
        "id": "bOi7HUSrzg1r"
      },
      "execution_count": null,
      "outputs": []
    },
    {
      "cell_type": "markdown",
      "source": [
        "ゲーム数が多いのでかなり欠損値が多い。\n",
        "今回は欠損値を無視する形で実装する。\n",
        "\n",
        "### フロー\n",
        "* 評価マトリクスからユーザーが評価済みのゲームを抽出する\n",
        "* ユーザーが評価済みのゲームのみに絞ったマトリクスを再生成する\n",
        "* 類似度を計算する\n",
        "\n",
        "### 参考\n",
        "https://techblog.gmo-ap.jp/2019/12/17/machine-learning-missing/"
      ],
      "metadata": {
        "id": "v8EVivNRCc_f"
      }
    },
    {
      "cell_type": "code",
      "source": [
        "# 評価数が多すぎるデータはカットする\n",
        "def get_recommend_source(df):\n",
        "  delete_rows = []\n",
        "  for index, row in df.iterrows():\n",
        "    count = 0\n",
        "    for val in row:\n",
        "      if val > 0:\n",
        "        count = count + 1\n",
        "    if count > 1000:\n",
        "      delete_rows.append(index)\n",
        "  return df.drop(delete_rows)\n",
        "\n",
        "recommend_source_df = get_recommend_source(df)"
      ],
      "metadata": {
        "id": "TMZQf_lGAcYS"
      },
      "execution_count": null,
      "outputs": []
    },
    {
      "cell_type": "code",
      "source": [
        "def get_recommend_game(df, recommend_source, target_user):\n",
        "  # 評価済みのゲームIDを取得する\n",
        "  target_games = []\n",
        "  for column_name, item in df.loc[target_user].items():\n",
        "    if item > 0:\n",
        "      target_games.append(column_name)\n",
        "  # 対象のゲームだけに絞った行列に再生成\n",
        "  reccomend_base_df = recommend_source[target_games]\n",
        "  # 各ユーザーとの類似度計算\n",
        "  score_list = {}\n",
        "  target_df = df.loc[target_user][target_games]\n",
        "  for index, _ in reccomend_base_df.iterrows():\n",
        "    if index == target_user:\n",
        "      continue\n",
        "    tmp_df = reccomend_base_df.loc[index]\n",
        "    similarity = cosine_similarity(np.array([target_df,tmp_df]))\n",
        "    score_list[index] = similarity[0,1]\n",
        "  score_list = sorted(score_list.items(), key=lambda x:x[1], reverse=True)\n",
        "  # 先頭10人の点数の高いゲームを抽出\n",
        "  pickup_users = score_list[:10]\n",
        "  print(pickup_users)\n",
        "  recommend_games = {}\n",
        "  for tmp_pickup_users in pickup_users:\n",
        "    key = tmp_pickup_users[0]\n",
        "    value = tmp_pickup_users[1]\n",
        "    for key2, value2 in df.loc[key].items():\n",
        "      if value2==0:\n",
        "        continue\n",
        "      if (key2 not in target_games):\n",
        "        if (key2 not in recommend_games):\n",
        "          recommend_games[key2] = []\n",
        "        recommend_games[key2].append(value2*value)\n",
        "  recommend_games_result = {}\n",
        "  for key, value in recommend_games.items():\n",
        "    recommend_games_result[key] = sum(value) / len(value)\n",
        "  recommend_games_result = sorted(recommend_games_result.items(), key=lambda x:x[1], reverse=True)\n",
        "  print(recommend_games_result[:10])\n",
        "\n",
        "# テスト\n",
        "get_recommend_game(df, recommend_source_df, 'Terawo')"
      ],
      "metadata": {
        "id": "nNAfpE7vRil2"
      },
      "execution_count": null,
      "outputs": []
    }
  ]
}